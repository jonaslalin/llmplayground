{
 "cells": [
  {
   "cell_type": "code",
   "execution_count": 1,
   "metadata": {},
   "outputs": [],
   "source": [
    "from langchain.callbacks import get_openai_callback\n",
    "from langchain.chains import LLMChain\n",
    "from langchain.chat_models import ChatOpenAI\n",
    "from langchain.prompts import (\n",
    "    SystemMessagePromptTemplate,\n",
    "    HumanMessagePromptTemplate,\n",
    "    AIMessagePromptTemplate,\n",
    "    ChatPromptTemplate,\n",
    ")\n"
   ]
  },
  {
   "cell_type": "code",
   "execution_count": 2,
   "metadata": {},
   "outputs": [],
   "source": [
    "chat = ChatOpenAI(model_name=\"gpt-3.5-turbo\", temperature=1e-2)\n"
   ]
  },
  {
   "cell_type": "code",
   "execution_count": 3,
   "metadata": {},
   "outputs": [
    {
     "name": "stdout",
     "output_type": "stream",
     "text": [
      "Your job is to determine the payout for an injury, if applicable. Use the following rules to determine the payout:\n",
      "\n",
      "1. For an injury involving the lower body, the payout is 500 SEK.\n",
      "2. If the injury is on the left arm, the payout is 300 SEK.\n",
      "3. A right arm injury does not qualify for a payout, i.e., the payout is 0 SEK.\n",
      "4. If the person has received a blow to the head, the payout is 1000 SEK.\n",
      "\n",
      "Please note that an injury might not be covered by the above rules. In such cases, inform the individual that you need to consult with your colleagues before proceeding. If there are multiple injuries, provide the total payout in your response. It's essential that you always refer to the relevant rule number when communicating the payout for an injury.\n"
     ]
    }
   ],
   "source": [
    "system_message = \"\"\"\n",
    "Your job is to determine the payout for an injury, if applicable. \\\n",
    "Use the following rules to determine the payout:\n",
    "\n",
    "1. For an injury involving the lower body, the payout is 500 SEK.\n",
    "2. If the injury is on the left arm, the payout is 300 SEK.\n",
    "3. A right arm injury does not qualify for a payout, i.e., the payout is 0 SEK.\n",
    "4. If the person has received a blow to the head, the payout is 1000 SEK.\n",
    "\n",
    "Please note that an injury might not be covered by the above rules. \\\n",
    "In such cases, inform the individual that you need to consult with your colleagues before proceeding. \\\n",
    "If there are multiple injuries, provide the total payout in your response. \\\n",
    "It's essential that you always refer to the relevant rule number when communicating the payout for an injury.\n",
    "\"\"\".strip()\n",
    "system_message_prompt = SystemMessagePromptTemplate.from_template(system_message)\n",
    "\n",
    "print(system_message_prompt.format().content)\n"
   ]
  },
  {
   "cell_type": "code",
   "execution_count": 4,
   "metadata": {},
   "outputs": [
    {
     "name": "stdout",
     "output_type": "stream",
     "text": [
      "During my bike ride to Grandma's, I fell and broke my leg.\n",
      "I'm sorry to hear that. Based on rule #1, you're entitled to a payout of 500 SEK for the injury to your leg.\n"
     ]
    }
   ],
   "source": [
    "example_human_message = \"\"\"\n",
    "During my bike ride to Grandma's, I fell and broke my leg.\n",
    "\"\"\".strip()\n",
    "example_human_message_prompt = SystemMessagePromptTemplate.from_template(\n",
    "    example_human_message,\n",
    "    additional_kwargs={\"name\": \"example_user\"},\n",
    ")\n",
    "\n",
    "example_ai_message = \"\"\"\n",
    "I'm sorry to hear that. Based on rule #1, you're entitled to a payout of 500 SEK for the injury to your leg.\n",
    "\"\"\".strip()\n",
    "example_ai_message_prompt = SystemMessagePromptTemplate.from_template(\n",
    "    example_ai_message,\n",
    "    additional_kwargs={\"name\": \"example_assistant\"},\n",
    ")\n",
    "\n",
    "print(example_human_message_prompt.format().content)\n",
    "print(example_ai_message_prompt.format().content)\n"
   ]
  },
  {
   "cell_type": "code",
   "execution_count": 5,
   "metadata": {},
   "outputs": [],
   "source": [
    "human_message = \"{injury}\"\n",
    "human_message_prompt = HumanMessagePromptTemplate.from_template(human_message)\n",
    "\n",
    "chat_messages = [\n",
    "    system_message_prompt,\n",
    "    example_human_message_prompt,\n",
    "    example_ai_message_prompt,\n",
    "    human_message_prompt,\n",
    "]\n",
    "\n",
    "chat_prompt = ChatPromptTemplate.from_messages(chat_messages)\n",
    "chain = LLMChain(llm=chat, prompt=chat_prompt)\n"
   ]
  },
  {
   "cell_type": "code",
   "execution_count": 6,
   "metadata": {},
   "outputs": [],
   "source": [
    "def decide_payout(injury: str) -> str:\n",
    "    with get_openai_callback() as cb:\n",
    "        response = chain.run(injury)\n",
    "        print(f\"Total Tokens: {cb.total_tokens}\")\n",
    "        print(f\"Total Cost (USD): ${cb.total_cost}\")\n",
    "        return response\n"
   ]
  },
  {
   "cell_type": "code",
   "execution_count": 7,
   "metadata": {},
   "outputs": [
    {
     "name": "stdout",
     "output_type": "stream",
     "text": [
      "Total Tokens: 290\n",
      "Total Cost (USD): $0.0005800000000000001\n"
     ]
    },
    {
     "data": {
      "text/plain": [
       "\"I'm sorry to hear that. Based on rule #4, you're entitled to a payout of 1000 SEK for the injury to your head.\""
      ]
     },
     "execution_count": 7,
     "metadata": {},
     "output_type": "execute_result"
    }
   ],
   "source": [
    "decide_payout(\"I was hit on the head by a falling brick during construction work.\")"
   ]
  },
  {
   "cell_type": "code",
   "execution_count": 8,
   "metadata": {},
   "outputs": [
    {
     "name": "stdout",
     "output_type": "stream",
     "text": [
      "Total Tokens: 300\n",
      "Total Cost (USD): $0.0006000000000000001\n"
     ]
    },
    {
     "data": {
      "text/plain": [
       "\"I'm sorry to hear that. Based on rule #3, injuries to the right arm do not qualify for a payout. Therefore, I'm afraid you're not entitled to any payout for this injury.\""
      ]
     },
     "execution_count": 8,
     "metadata": {},
     "output_type": "execute_result"
    }
   ],
   "source": [
    "decide_payout(\"A dinosaur bit off my right arm during the filming of Jurassic Park X.\")\n"
   ]
  },
  {
   "cell_type": "code",
   "execution_count": 9,
   "metadata": {},
   "outputs": [
    {
     "name": "stdout",
     "output_type": "stream",
     "text": [
      "Total Tokens: 330\n",
      "Total Cost (USD): $0.00066\n"
     ]
    },
    {
     "data": {
      "text/plain": [
       "\"I'm sorry to hear that. Based on rule #2, you're entitled to a payout of 300 SEK for the injury to your left arm. However, please note that this is not a complete payout for such a severe injury. I need to consult with my colleagues before proceeding. Can you please provide me with more details about the incident?\""
      ]
     },
     "execution_count": 9,
     "metadata": {},
     "output_type": "execute_result"
    }
   ],
   "source": [
    "decide_payout(\"A dinosaur bit off my left arm during the filming of Jurassic Park X.\")\n"
   ]
  },
  {
   "cell_type": "code",
   "execution_count": 10,
   "metadata": {},
   "outputs": [
    {
     "name": "stdout",
     "output_type": "stream",
     "text": [
      "Total Tokens: 268\n",
      "Total Cost (USD): $0.000536\n"
     ]
    },
    {
     "data": {
      "text/plain": [
       "\"I'm sorry to hear that. Can you please tell me where you were injured?\""
      ]
     },
     "execution_count": 10,
     "metadata": {},
     "output_type": "execute_result"
    }
   ],
   "source": [
    "decide_payout(\"I got hit by a car.\")\n"
   ]
  },
  {
   "cell_type": "code",
   "execution_count": 11,
   "metadata": {},
   "outputs": [
    {
     "name": "stdout",
     "output_type": "stream",
     "text": [
      "Total Tokens: 289\n",
      "Total Cost (USD): $0.0005780000000000001\n"
     ]
    },
    {
     "data": {
      "text/plain": [
       "\"I'm sorry to hear that, but I'm afraid that this situation is not covered by the rules for injury payouts. If you have any other questions or concerns, please let me know.\""
      ]
     },
     "execution_count": 11,
     "metadata": {},
     "output_type": "execute_result"
    }
   ],
   "source": [
    "decide_payout(\"Love shattered my heart into pieces.\")\n"
   ]
  },
  {
   "cell_type": "code",
   "execution_count": 12,
   "metadata": {},
   "outputs": [
    {
     "name": "stdout",
     "output_type": "stream",
     "text": [
      "Total Tokens: 316\n",
      "Total Cost (USD): $0.000632\n"
     ]
    },
    {
     "data": {
      "text/plain": [
       "\"I'm sorry to hear that. Based on rule #1 and #2, you're entitled to a payout of 500 SEK for the injury to your knee and 300 SEK for the injury to your left arm. Therefore, the total payout for your injuries is 800 SEK.\""
      ]
     },
     "execution_count": 12,
     "metadata": {},
     "output_type": "execute_result"
    }
   ],
   "source": [
    "decide_payout(\"I have injured both my left arm and my right knee.\")\n"
   ]
  },
  {
   "cell_type": "code",
   "execution_count": 13,
   "metadata": {},
   "outputs": [
    {
     "name": "stdout",
     "output_type": "stream",
     "text": [
      "Total Tokens: 329\n",
      "Total Cost (USD): $0.0006580000000000001\n"
     ]
    },
    {
     "data": {
      "text/plain": [
       "'Jag beklagar att du har brutit benet. Enligt regel #1 är du berättigad till en utbetalning på 500 SEK för skadan på ditt ben. Hoppas att du känner dig bättre snart!'"
      ]
     },
     "execution_count": 13,
     "metadata": {},
     "output_type": "execute_result"
    }
   ],
   "source": [
    "decide_payout(\"Jag har brutit benet. Aj aj vad ont det gjorde och det här skriver jag ju helt på svenska 😃\")\n"
   ]
  },
  {
   "cell_type": "code",
   "execution_count": null,
   "metadata": {},
   "outputs": [],
   "source": []
  }
 ],
 "metadata": {
  "kernelspec": {
   "display_name": "langchain",
   "language": "python",
   "name": "python3"
  },
  "language_info": {
   "codemirror_mode": {
    "name": "ipython",
    "version": 3
   },
   "file_extension": ".py",
   "mimetype": "text/x-python",
   "name": "python",
   "nbconvert_exporter": "python",
   "pygments_lexer": "ipython3",
   "version": "3.11.3"
  },
  "orig_nbformat": 4
 },
 "nbformat": 4,
 "nbformat_minor": 2
}
