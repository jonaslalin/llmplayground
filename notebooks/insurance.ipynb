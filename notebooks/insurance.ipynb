{
 "cells": [
  {
   "cell_type": "code",
   "execution_count": 41,
   "metadata": {},
   "outputs": [],
   "source": [
    "from langchain.callbacks import get_openai_callback\n",
    "from langchain.chains import LLMChain\n",
    "from langchain.chat_models import ChatOpenAI\n",
    "from langchain.prompts import (\n",
    "    SystemMessagePromptTemplate,\n",
    "    HumanMessagePromptTemplate,\n",
    "    AIMessagePromptTemplate,\n",
    "    ChatPromptTemplate,\n",
    ")\n"
   ]
  },
  {
   "cell_type": "code",
   "execution_count": 42,
   "metadata": {},
   "outputs": [],
   "source": [
    "chat = ChatOpenAI(model_name=\"gpt-3.5-turbo\", temperature=1e-3)\n"
   ]
  },
  {
   "cell_type": "code",
   "execution_count": 43,
   "metadata": {},
   "outputs": [
    {
     "name": "stdout",
     "output_type": "stream",
     "text": [
      "Your job is to determine the payout for an injury, if possible. Use these rules to determine the payout:\n",
      "\n",
      "1. For an injury involving the lower body, the payout is 500 SEK.\n",
      "2. The payout is 300 SEK, if the injury is on the left arm.\n",
      "3. A right arm injury does not qualify for a payout, i.e., the payout is 0 SEK.\n",
      "4. If the person recieved a blow to the head, the payout is 1000 SEK.\n",
      "\n",
      "An injury might not be covered by the rules. In that case, reply with something similiar to \"I can't decide the payout without first discussing your X injury with my colleagues.\". It is very important that you always refer to the rule number when replying with the payout for an injury.\n"
     ]
    }
   ],
   "source": [
    "system_message = \"\"\"\n",
    "Your job is to determine the payout for an injury, if possible. \\\n",
    "Use these rules to determine the payout:\n",
    "\n",
    "1. For an injury involving the lower body, the payout is 500 SEK.\n",
    "2. The payout is 300 SEK, if the injury is on the left arm.\n",
    "3. A right arm injury does not qualify for a payout, i.e., the payout is 0 SEK.\n",
    "4. If the person recieved a blow to the head, the payout is 1000 SEK.\n",
    "\n",
    "An injury might not be covered by the rules. \\\n",
    "In that case, reply with something similiar to \\\n",
    "\"I can't decide the payout without first discussing your X injury with my colleagues.\". \\\n",
    "It is very important that you always refer to the rule number when replying with the payout for an injury.\n",
    "\"\"\".strip()\n",
    "system_message_prompt = SystemMessagePromptTemplate.from_template(system_message)\n",
    "\n",
    "print(system_message_prompt.format().content)\n"
   ]
  },
  {
   "cell_type": "code",
   "execution_count": 44,
   "metadata": {},
   "outputs": [
    {
     "name": "stdout",
     "output_type": "stream",
     "text": [
      "Yesterday, I fell during my bicycle ride to Grandma's and broke my leg.\n",
      "I am sorry to hear that. According to rule #1, you will receive a payout of 500 SEK for the injury to your leg.\n"
     ]
    }
   ],
   "source": [
    "example_human_message = \"\"\"\n",
    "Yesterday, I fell during my bicycle ride to Grandma's and broke my leg.\n",
    "\"\"\".strip()\n",
    "example_human_message_prompt = SystemMessagePromptTemplate.from_template(\n",
    "    example_human_message,\n",
    "    additional_kwargs={\"name\": \"example_user\"},\n",
    ")\n",
    "\n",
    "example_ai_message = \"\"\"\n",
    "I am sorry to hear that. \\\n",
    "According to rule #1, you will receive a payout of 500 SEK for the injury to your leg.\n",
    "\"\"\".strip()\n",
    "example_ai_message_prompt = SystemMessagePromptTemplate.from_template(\n",
    "    example_ai_message,\n",
    "    additional_kwargs={\"name\": \"example_assistant\"},\n",
    ")\n",
    "\n",
    "print(example_human_message_prompt.format().content)\n",
    "print(example_ai_message_prompt.format().content)\n"
   ]
  },
  {
   "cell_type": "code",
   "execution_count": 45,
   "metadata": {},
   "outputs": [],
   "source": [
    "human_message = \"{injury}\"\n",
    "human_message_prompt = HumanMessagePromptTemplate.from_template(human_message)\n",
    "\n",
    "chat_messages = [\n",
    "    system_message_prompt,\n",
    "    example_human_message_prompt,\n",
    "    example_ai_message_prompt,\n",
    "    human_message_prompt,\n",
    "]\n",
    "\n",
    "chat_prompt = ChatPromptTemplate.from_messages(chat_messages)\n",
    "chain = LLMChain(llm=chat, prompt=chat_prompt)\n"
   ]
  },
  {
   "cell_type": "code",
   "execution_count": 46,
   "metadata": {},
   "outputs": [],
   "source": [
    "def decide_payout(injury: str) -> str:\n",
    "    with get_openai_callback() as cb:\n",
    "        response = chain.run(injury)\n",
    "        print(f\"Total Tokens: {cb.total_tokens}\")\n",
    "        print(f\"Total Cost (USD): ${cb.total_cost}\")\n",
    "        return response\n"
   ]
  },
  {
   "cell_type": "code",
   "execution_count": 47,
   "metadata": {},
   "outputs": [
    {
     "name": "stdout",
     "output_type": "stream",
     "text": [
      "Total Tokens: 276\n",
      "Total Cost (USD): $0.000552\n"
     ]
    },
    {
     "data": {
      "text/plain": [
       "\"I'm sorry to hear that. According to rule #4, you will receive a payout of 1000 SEK for the injury to your head.\""
      ]
     },
     "execution_count": 47,
     "metadata": {},
     "output_type": "execute_result"
    }
   ],
   "source": [
    "decide_payout(\"A brick fell on my head during construction work.\")"
   ]
  },
  {
   "cell_type": "code",
   "execution_count": 48,
   "metadata": {},
   "outputs": [
    {
     "name": "stdout",
     "output_type": "stream",
     "text": [
      "Total Tokens: 286\n",
      "Total Cost (USD): $0.000572\n"
     ]
    },
    {
     "data": {
      "text/plain": [
       "'I am sorry to hear that. According to rule #3, a right arm injury does not qualify for a payout, i.e., the payout is 0 SEK.'"
      ]
     },
     "execution_count": 48,
     "metadata": {},
     "output_type": "execute_result"
    }
   ],
   "source": [
    "decide_payout(\"A dinosaur ate my right arm during the shooting of Jurrasic Park X.\")\n"
   ]
  },
  {
   "cell_type": "code",
   "execution_count": 49,
   "metadata": {},
   "outputs": [
    {
     "name": "stdout",
     "output_type": "stream",
     "text": [
      "Total Tokens: 282\n",
      "Total Cost (USD): $0.000564\n"
     ]
    },
    {
     "data": {
      "text/plain": [
       "\"I'm sorry to hear that. According to rule #2, you will receive a payout of 300 SEK for the injury to your left arm.\""
      ]
     },
     "execution_count": 49,
     "metadata": {},
     "output_type": "execute_result"
    }
   ],
   "source": [
    "decide_payout(\"A dinosaur ate my left arm during the shooting of Jurrasic Park X.\")\n"
   ]
  },
  {
   "cell_type": "code",
   "execution_count": 50,
   "metadata": {},
   "outputs": [
    {
     "name": "stdout",
     "output_type": "stream",
     "text": [
      "Total Tokens: 259\n",
      "Total Cost (USD): $0.000518\n"
     ]
    },
    {
     "data": {
      "text/plain": [
       "'I am sorry to hear that. Could you please specify the location of your injury?'"
      ]
     },
     "execution_count": 50,
     "metadata": {},
     "output_type": "execute_result"
    }
   ],
   "source": [
    "decide_payout(\"I was hit by a car.\")\n"
   ]
  },
  {
   "cell_type": "code",
   "execution_count": 51,
   "metadata": {},
   "outputs": [
    {
     "name": "stdout",
     "output_type": "stream",
     "text": [
      "Total Tokens: 281\n",
      "Total Cost (USD): $0.000562\n"
     ]
    },
    {
     "data": {
      "text/plain": [
       "\"I'm sorry to hear that, but I'm afraid that this type of injury is not covered by our rules. I can't decide the payout without first discussing your heart injury with my colleagues.\""
      ]
     },
     "execution_count": 51,
     "metadata": {},
     "output_type": "execute_result"
    }
   ],
   "source": [
    "decide_payout(\"My heart was broken by love.\")\n"
   ]
  },
  {
   "cell_type": "code",
   "execution_count": 52,
   "metadata": {},
   "outputs": [
    {
     "name": "stdout",
     "output_type": "stream",
     "text": [
      "Total Tokens: 293\n",
      "Total Cost (USD): $0.000586\n"
     ]
    },
    {
     "data": {
      "text/plain": [
       "'According to rule #1, you will receive a payout of 500 SEK for the injury to your knee. According to rule #2, you will receive a payout of 300 SEK for the injury to your left arm.'"
      ]
     },
     "execution_count": 52,
     "metadata": {},
     "output_type": "execute_result"
    }
   ],
   "source": [
    "decide_payout(\"I hurt both my left arm and my right knee.\")\n"
   ]
  },
  {
   "cell_type": "code",
   "execution_count": 54,
   "metadata": {},
   "outputs": [
    {
     "name": "stdout",
     "output_type": "stream",
     "text": [
      "Total Tokens: 313\n",
      "Total Cost (USD): $0.000626\n"
     ]
    },
    {
     "data": {
      "text/plain": [
       "'Aj då, det låter inte bra! Enligt regel #1 kommer du att få en utbetalning på 500 SEK för skadan på ditt ben. Hoppas att du känner dig bättre snart!'"
      ]
     },
     "execution_count": 54,
     "metadata": {},
     "output_type": "execute_result"
    }
   ],
   "source": [
    "decide_payout(\"Jag har brutit benet. Aj aj vad ont det gjorde och det här skriver jag ju helt på svenska 😃\")\n"
   ]
  },
  {
   "cell_type": "code",
   "execution_count": null,
   "metadata": {},
   "outputs": [],
   "source": []
  }
 ],
 "metadata": {
  "kernelspec": {
   "display_name": "langchain",
   "language": "python",
   "name": "python3"
  },
  "language_info": {
   "codemirror_mode": {
    "name": "ipython",
    "version": 3
   },
   "file_extension": ".py",
   "mimetype": "text/x-python",
   "name": "python",
   "nbconvert_exporter": "python",
   "pygments_lexer": "ipython3",
   "version": "3.11.3"
  },
  "orig_nbformat": 4
 },
 "nbformat": 4,
 "nbformat_minor": 2
}
